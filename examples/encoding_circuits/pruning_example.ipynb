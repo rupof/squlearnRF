{
 "cells": [
  {
   "cell_type": "markdown",
   "metadata": {},
   "source": [
    "## Example: Pruning of encoding circuits\n",
    "\n",
    "This examples displays how redundant parameters can be (automatically) removed from encoding circuits."
   ]
  },
  {
   "cell_type": "code",
   "execution_count": 1,
   "metadata": {},
   "outputs": [],
   "source": [
    "import numpy as np\n",
    "\n",
    "from squlearn.encoding_circuit import (\n",
    "    PrunedEncodingCircuit,\n",
    "    pruning_from_QFI,\n",
    "    automated_pruning,\n",
    ")\n",
    "from squlearn.encoding_circuit import LayeredEncodingCircuit\n",
    "from squlearn.util.qfi import get_quantum_fisher\n",
    "from squlearn.util.executor import Executor"
   ]
  },
  {
   "cell_type": "markdown",
   "metadata": {},
   "source": [
    "Create a encoding circuit with redundant parameters.\n",
    "The first two Rz rotations are redundant, since they are applied to the 0 state.\n",
    "The second Ry gates are redundant, since they commutate with the Z gates and two consecutive Ry gates can be replaced by a single Ry gate with the sum of the angles."
   ]
  },
  {
   "cell_type": "code",
   "execution_count": 2,
   "metadata": {},
   "outputs": [
    {
     "name": "stderr",
     "output_type": "stream",
     "text": [
      "C:\\Users\\DKR\\AppData\\Roaming\\Python\\Python310\\site-packages\\qiskit\\visualization\\circuit\\matplotlib.py:266: FutureWarning: The default matplotlib drawer scheme will be changed to \"iqp\" in a following release. To silence this warning, specify the current default explicitly as style=\"clifford\", or the new default as style=\"iqp\".\n",
      "  self._style, def_font_ratio = load_style(self._style)\n"
     ]
    },
    {
     "data": {
      "image/png": "[encoded data removed]",
      "text/plain": [
       "<Figure size 538.128x200.667 with 1 Axes>"
      ]
     },
     "execution_count": 2,
     "metadata": {},
     "output_type": "execute_result"
    }
   ],
   "source": [
    "# Example for two qubits\n",
    "nqubit = 2\n",
    "\n",
    "# Generate and print the example pqc\n",
    "pqc = LayeredEncodingCircuit.from_string(\"Rz(p)-Ry(p)-Z-Ry(p)-Rz(p)\", nqubit, num_features=0)\n",
    "pqc.draw(\"mpl\")"
   ]
  },
  {
   "cell_type": "markdown",
   "metadata": {},
   "source": [
    "Evaluate the quantum fisher matrix of the parameterized circuit for random parameters."
   ]
  },
  {
   "cell_type": "code",
   "execution_count": 9,
   "metadata": {},
   "outputs": [
    {
     "name": "stdout",
     "output_type": "stream",
     "text": [
      "[[ 0.     0.    -0.    -0.    -0.     0.     0.     0.   ]\n",
      " [ 0.     0.    -0.    -0.     0.     0.     0.     0.   ]\n",
      " [-0.    -0.     1.     0.    -1.    -0.    -0.    -0.   ]\n",
      " [-0.    -0.     0.     1.    -0.    -1.    -0.     0.   ]\n",
      " [-0.     0.    -1.    -0.     1.     0.     0.     0.   ]\n",
      " [ 0.     0.    -0.    -1.     0.     1.     0.     0.   ]\n",
      " [ 0.     0.    -0.    -0.     0.     0.     0.032  0.   ]\n",
      " [ 0.     0.    -0.     0.     0.     0.     0.     0.01 ]]\n"
     ]
    }
   ],
   "source": [
    "# Generate random parameters\n",
    "np.random.seed(0)\n",
    "param = np.random.rand(pqc.num_parameters)\n",
    "\n",
    "# Nicer numpy output\n",
    "np.set_printoptions(precision=3)\n",
    "np.set_printoptions(suppress=True)\n",
    "\n",
    "# Evaluate and print the Quantum Fisher Information Matrix\n",
    "executor = Executor()\n",
    "QFIM = get_quantum_fisher(pqc, [], param, executor)\n",
    "print(QFIM)"
   ]
  },
  {
   "cell_type": "markdown",
   "metadata": {},
   "source": [
    "Calculate and print the spectrum of the Quantum Fisher Information Matrix. Zero eigenvalues indicate redundant parameters."
   ]
  },
  {
   "cell_type": "code",
   "execution_count": 4,
   "metadata": {},
   "outputs": [
    {
     "name": "stdout",
     "output_type": "stream",
     "text": [
      "[-0.     0.     0.     0.     0.01   0.032  2.     2.   ]\n"
     ]
    }
   ],
   "source": [
    "V, D = np.linalg.eig(QFIM)\n",
    "print(np.sort(V))"
   ]
  },
  {
   "cell_type": "markdown",
   "metadata": {},
   "source": [
    "Function that computes the indices of the redundant parameters from the Quantum Fisher Information Matrix.\n",
    "The algorthims follows https://doi.org/10.1103/PRXQuantum.2.040309"
   ]
  },
  {
   "cell_type": "code",
   "execution_count": 5,
   "metadata": {},
   "outputs": [
    {
     "name": "stdout",
     "output_type": "stream",
     "text": [
      "[0 1 4 5]\n"
     ]
    }
   ],
   "source": [
    "red_gate = pruning_from_QFI(QFIM)\n",
    "print(np.sort(red_gate))"
   ]
  },
  {
   "cell_type": "markdown",
   "metadata": {},
   "source": [
    "Create a new circuit in which the redundant parameters are removed from the circuit."
   ]
  },
  {
   "cell_type": "code",
   "execution_count": 6,
   "metadata": {},
   "outputs": [
    {
     "data": {
      "image/png": "[encoded data removed]",
      "text/plain": [
       "<Figure size 370.906x200.667 with 1 Axes>"
      ]
     },
     "execution_count": 6,
     "metadata": {},
     "output_type": "execute_result"
    }
   ],
   "source": [
    "# Construct and print the pruned PQC\n",
    "pruned_pqc = PrunedEncodingCircuit(pqc, red_gate)\n",
    "pruned_pqc.draw(\"mpl\")"
   ]
  },
  {
   "cell_type": "markdown",
   "metadata": {},
   "source": [
    "In sQUlearn, there is also an automatic pruning function that removes redundant parameters from the circuit.\n",
    "The resulting circuit is equivalent to the manually pruned circuit, since the Ry and Z gates commute."
   ]
  },
  {
   "cell_type": "code",
   "execution_count": 7,
   "metadata": {},
   "outputs": [
    {
     "name": "stdout",
     "output_type": "stream",
     "text": [
      "Pruned parameters: [0 1 3 4]\n"
     ]
    },
    {
     "data": {
      "image/png": "[encoded data removed]",
      "text/plain": [
       "<Figure size 370.906x200.667 with 1 Axes>"
      ]
     },
     "execution_count": 7,
     "metadata": {},
     "output_type": "execute_result"
    }
   ],
   "source": [
    "pruned_pqc_auto = automated_pruning(pqc, executor)\n",
    "pruned_pqc_auto.draw(\"mpl\")"
   ]
  }
 ],
 "metadata": {
  "kernelspec": {
   "display_name": "Python 3.10.2 64-bit",
   "language": "python",
   "name": "python3"
  },
  "language_info": {
   "codemirror_mode": {
    "name": "ipython",
    "version": 3
   },
   "file_extension": ".py",
   "mimetype": "text/x-python",
   "name": "python",
   "nbconvert_exporter": "python",
   "pygments_lexer": "ipython3",
   "version": "3.10.2"
  },
  "orig_nbformat": 4,
  "vscode": {
   "interpreter": {
    "hash": "26de051ba29f2982a8de78e945f0abaf191376122a1563185a90213a26c5da77"
   }
  }
 },
 "nbformat": 4,
 "nbformat_minor": 2
}
