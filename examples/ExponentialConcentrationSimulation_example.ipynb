{
 "cells": [
  {
   "cell_type": "code",
   "execution_count": 1,
   "metadata": {},
   "outputs": [],
   "source": [
    "from squlearn.feature_map import *\n",
    "from qiskit.quantum_info import entropy, Statevector, DensityMatrix\n",
    "import numpy as np\n",
    "from qiskit import QuantumCircuit\n",
    "from qiskit import execute\n",
    "from qiskit.quantum_info import partial_trace\n",
    "from qiskit import Aer, transpile\n",
    "from sklearn.decomposition import PCA\n",
    "\n",
    "\n",
    "\n",
    "#from squlearn.exponential_concentration_tools import *\n",
    "#from squlearn.exponential_concentration_tools.datasets import *\n",
    "#from squlearn.exponential_concentration_tools.data_processing import *\n",
    "#from squlearn.exponential_concentration_tools.simulations import *\n",
    "\n",
    "from sklearn.datasets import fetch_openml\n",
    "import matplotlib.pyplot as plt\n",
    "import matplotlib.cm as cm\n",
    "from squlearn.util import Executor\n",
    "\n",
    "#import tensorflow as tf\n",
    "#import tensorflow_datasets as tfds\n",
    "\n",
    "import sys\n",
    "\n",
    "from itertools import combinations\n",
    "\n",
    "\n"
   ]
  },
  {
   "cell_type": "code",
   "execution_count": 2,
   "metadata": {},
   "outputs": [],
   "source": [
    "from squlearn.feature_map import HardwareEfficientEmbeddingMap # hardware efficient embedding map must be implemented in squlearn, if not comment out\n",
    "from squlearn.feature_map import QiskitFeatureMap\n",
    "from qiskit.circuit.library import ZZFeatureMap\n",
    "from squlearn.kernel.matrix import FidelityKernel, ProjectedQuantumKernel\n",
    "from squlearn.kernel.ml import QSVR, QKRR\n",
    "from squlearn.util import Executor\n",
    "from qiskit.primitives import Estimator, Sampler\n",
    "\n",
    "\n",
    "from sklearn.preprocessing import MinMaxScaler # For scaling the data to [0, 1] if not kernels fail\n",
    "\n",
    "from qiskit.quantum_info import Statevector, partial_trace\n",
    "from squlearn.feature_map import *\n",
    "from itertools import combinations\n",
    "from squlearn.expectation_operator import CustomExpectationOperator\n",
    "\n"
   ]
  },
  {
   "cell_type": "markdown",
   "metadata": {},
   "source": [
    "Related to DRM PQK implementation"
   ]
  },
  {
   "cell_type": "code",
   "execution_count": 3,
   "metadata": {},
   "outputs": [],
   "source": [
    "\n",
    "\n",
    "# For n-drm implementations: \n",
    "\n",
    "def interpret_measurement_str(input_string):\n",
    "    \"\"\"\n",
    "    # Test examples\n",
    "    print(interpret_string(\"Z1DRM\"))     # Output: (\"Z\", 1)\n",
    "    print(interpret_string(\"XYZ3DRM\"))   # Output: (\"XYZ\", 3)\n",
    "    \"\"\"\n",
    "    # Initialize measurement_basis and nDRM variables\n",
    "    measurement_basis = \"\"\n",
    "    nDRM = \"\"\n",
    "\n",
    "    # Find the index where the numeric part of the string starts\n",
    "    numeric_index = None\n",
    "    for i in range(len(input_string)):\n",
    "        if input_string[i].isdigit():\n",
    "            numeric_index = i\n",
    "            if input_string[i+1].isdigit():\n",
    "                return input_string[:numeric_index], int(input_string[numeric_index:numeric_index+2])\n",
    "            break\n",
    "\n",
    "    # If no numeric part found, return empty values for measurement_basis and nDRM\n",
    "    if numeric_index is None:\n",
    "        return measurement_basis, nDRM\n",
    "\n",
    "    # Extract the measurement_basis and nDRM from the input_string\n",
    "    measurement_basis = input_string[:numeric_index]\n",
    "    nDRM = input_string[numeric_index]\n",
    "\n",
    "    return measurement_basis, int(nDRM)\n",
    "\n",
    "def generate_combinations(string_len, n_elements, symbol):\n",
    "    \"\"\"\n",
    "    Generates all possible combinations of a given number of elements in a string of a given length.\n",
    "    example: \n",
    "    generate_combinations(3, 2, \"X\") -> [\"XXI\", \"IXX\", \"XIX\"]\n",
    "    \"\"\"\n",
    "    # If the number of elements requested is greater than the string length,\n",
    "    # it's not possible to form such combinations, so return an empty list.\n",
    "    if n_elements > string_len:\n",
    "        return []\n",
    "\n",
    "    # Generate all possible combinations of indices where the symbol (\"X\")\n",
    "    # should be placed in the string.\n",
    "    combinations_list = list(combinations(range(string_len), n_elements))\n",
    "\n",
    "    # Initialize the list to store all the combinations.\n",
    "    result = []\n",
    "    \n",
    "    # Iterate through each combination of indices and create the corresponding string.\n",
    "    for combo in combinations_list:\n",
    "        # Initialize a list with \"I\" (identity) characters for the string.\n",
    "        string_characters = [\"I\"] * string_len\n",
    "        \n",
    "        # Set the symbol (\"X\") at the appropriate positions based on the combination.\n",
    "        for idx in combo:\n",
    "            string_characters[idx] = symbol\n",
    "        \n",
    "        # Convert the list of characters into a single string and add it to the result list.\n",
    "        result.append(\"\".join(string_characters))\n",
    "    \n",
    "    # Return the list of all unique combinations.\n",
    "    return result\n",
    "\n",
    "\n",
    "def generate_n_density_reduced_matrices(num_qubits, nDRM, basis  ):\n",
    "    \"\"\"\n",
    "    Generates all possible density matrices for a given number of qubits and returns them as a list of CustomExpectationOperators\n",
    "    \"\"\"\n",
    "    X_measurements = generate_combinations(num_qubits, nDRM, \"X\")\n",
    "    Y_measurements = generate_combinations(num_qubits, nDRM, \"Y\")\n",
    "    Z_measurements = generate_combinations(num_qubits, nDRM, \"Z\")\n",
    "    if basis == \"XYZ\":\n",
    "        measurements = X_measurements + Y_measurements + Z_measurements\n",
    "    elif basis == \"XY\":\n",
    "        measurements = X_measurements + Y_measurements\n",
    "    elif basis == \"XZ\":\n",
    "        measurements = X_measurements + Z_measurements\n",
    "    elif basis == \"YZ\":\n",
    "        measurements = Y_measurements + Z_measurements\n",
    "    elif basis == \"Z\":\n",
    "        measurements = Z_measurements\n",
    "    elif basis == \"X\": \n",
    "        measurements = X_measurements\n",
    "        \n",
    "    for i in range(len(measurements)):\n",
    "        measurements[i] = CustomExpectationOperator(num_qubits, measurements[i])\n",
    "    return measurements\n"
   ]
  },
  {
   "cell_type": "markdown",
   "metadata": {},
   "source": [
    "Related to ZZEmbedding"
   ]
  },
  {
   "cell_type": "code",
   "execution_count": 4,
   "metadata": {},
   "outputs": [],
   "source": [
    "def self_product_without_pi(x: np.ndarray) -> float:\n",
    "    \"\"\"\n",
    "    Define a function map from R^n to R.\n",
    "\n",
    "    Args:\n",
    "        x: data\n",
    "\n",
    "    Returns:\n",
    "        float: the mapped value\n",
    "    \"\"\"\n",
    "    if len(x) == 1:\n",
    "        coeff =  x[0]\n",
    "    elif len(x) == 2:\n",
    "        coeff = x[0]*x[1]\n",
    "    else: \n",
    "        raise ValueError(\"The length of x should be 1 or 2!\")\n",
    "    return coeff\n"
   ]
  },
  {
   "cell_type": "markdown",
   "metadata": {},
   "source": [
    "Related to datasets:"
   ]
  },
  {
   "cell_type": "code",
   "execution_count": 5,
   "metadata": {},
   "outputs": [
    {
     "name": "stderr",
     "output_type": "stream",
     "text": [
      "C:\\Users\\jsl-rf\\AppData\\Roaming\\Python\\Python310\\site-packages\\sklearn\\datasets\\_openml.py:968: FutureWarning: The default value of `parser` will change from `'liac-arff'` to `'auto'` in 1.4. You can set `parser='auto'` to silence this warning. Therefore, an `ImportError` will be raised from 1.4 if the dataset is dense and pandas is not installed. Note that the pandas parser may return different data types. See the Notes Section in fetch_openml's API doc for details.\n",
      "  warn(\n"
     ]
    }
   ],
   "source": [
    "#Useful for datasets \n",
    "MNIST = fetch_openml('mnist_784')\n",
    "\n",
    "def pca_sklearn(X, n_components):\n",
    "    \"\"\"\n",
    "    Performs PCA on the input dataset X and returns the projected dataset X_pca as implemented in sklearn\"\"\"\n",
    "    pca = PCA(n_components=n_components)\n",
    "    X_pca = pca.fit_transform(X)\n",
    "    return X_pca\n",
    "\n",
    "\n",
    "def hypercube_classifier(vector, half_width = np.pi):\n",
    "    n = len(vector)\n",
    "    width = 2 * half_width / 2**(1/n)\n",
    "    for coordinate in vector:\n",
    "        if coordinate < -width/2 or coordinate > width/2:\n",
    "            return -1 \n",
    "    return 1\n",
    "\n",
    "def get_hypercube_dataset(num_qubits, num_samples=100, half_width=np.pi, random_seed=None):\n",
    "    \"\"\"\n",
    "    Generates a dataset of num_samples points sampled uniformly from the hypercube [-1, 1]^num_qubits.\n",
    "    If random_seed is not None, it will set the random seed for reproducibility.\n",
    "    \"\"\"\n",
    "    if random_seed is not None:\n",
    "        np.random.seed(random_seed)\n",
    "\n",
    "    X = np.random.uniform(-half_width, half_width, (num_samples, num_qubits))\n",
    "    y = np.array([hypercube_classifier(vector, half_width) for vector in X])\n",
    "    return X, y\n",
    "\n",
    "def get_MNIST_pca_filtered_dataset(n, num_samples=40, pca=pca_sklearn, mnist=None, random_seed=1):\n",
    "    \"\"\"\n",
    "    Gets the MNIST dataset, performs PCA on it, and filters for only 0 and 1.\n",
    "    Returning the projected dataset X_pca and the corresponding labels y.\n",
    "    If random_seed is not None, it will set the random seed for reproducibility.\n",
    "    \"\"\"\n",
    "    np.random.seed(random_seed)\n",
    "\n",
    "    # Load MNIST dataset\n",
    "    if mnist is None:\n",
    "        mnist = fetch_openml('mnist_784')\n",
    "        print(\"fetching mnist\")\n",
    "\n",
    "    X = mnist.data\n",
    "    y = mnist.target\n",
    "\n",
    "    X_pca = pca(X, n)\n",
    "\n",
    "    # Filter the dataset to include only \"0\" and \"1\" digits\n",
    "    binary_digits = ['0', '1']\n",
    "    binary_indices = np.isin(y, binary_digits)\n",
    "    X_pca_binary = X_pca[binary_indices]\n",
    "    y_binary = y[binary_indices]\n",
    "\n",
    "    # Generate random indices\n",
    "    indices = np.random.choice(len(y_binary), size=num_samples, replace=False)\n",
    "    # Select elements using the random indices for both arrays\n",
    "    y_binary_f = y_binary.reset_index(drop=True)[indices]\n",
    "    y_binary_f = y_binary_f.to_numpy().astype(float)\n",
    "\n",
    "    X_pca_binary = X_pca_binary[indices]\n",
    "\n",
    "    return X_pca_binary, y_binary_f\n",
    "\n"
   ]
  },
  {
   "cell_type": "markdown",
   "metadata": {},
   "source": [
    "Main function"
   ]
  },
  {
   "cell_type": "code",
   "execution_count": 6,
   "metadata": {},
   "outputs": [],
   "source": [
    "# Define the executor and set the desired number of shots\n",
    "#executor = Executor('qasm_simulator')\n",
    "\n",
    "\n",
    "# Fidelity\n",
    "samples  = Executor(Sampler())\n",
    "samples.set_shots(None)\n",
    "\n",
    "\n",
    "#Projected\n",
    "executor = Executor(Estimator())\n",
    "executor.set_shots(None)\n",
    "\n",
    "\n",
    "results = []  # List to store the results\n",
    "\n",
    "def run_calculation(fmap, num_qubits, num_layers, rotation_gate, KernelMethod, directory, dataset_name, dataset_preprocessing,\n",
    "                     extra_parameters = None, extra_name = None, measurement_str = None, outer_kernel = None, outer_kernel_parameter = None):\n",
    "    \n",
    "    random_seed=1 # For reproducibility\n",
    "\n",
    "    num_samples = 40\n",
    "    # Define the feature map\n",
    "    if fmap == \"ZZEmbedding\":\n",
    "        fmap = QiskitFeatureMap(ZZFeatureMap, feature_dimension=num_qubits, reps = num_layers, data_map_func = self_product_without_pi )\n",
    "    elif fmap == \"HEE\":\n",
    "        # For this to work: class HardwareEfficientEmbeddingMap(FeatureMapBase) must be in feature_map_implemented.py\n",
    "        fmap = HardwareEfficientEmbeddingMap(num_qubits, num_qubits, num_layers, rotation_gate)\n",
    "          \n",
    "    \n",
    "    # Define the kernel\n",
    "    if KernelMethod == ProjectedQuantumKernel:\n",
    "        measurement_basis, nDRM = interpret_measurement_str(measurement_str)\n",
    "        measurements = generate_n_density_reduced_matrices(num_qubits, nDRM, basis=measurement_basis)\n",
    "\n",
    "        kernel = KernelMethod(fmap,executor=executor, measurement = measurements, outer_kernel = outer_kernel, gamma = outer_kernel_parameter ) #measurement = XYZ, outerkernel = Gaussian ### ADD THIS TO DATA PROCESSING\n",
    "        kernel.assign_parameters([])\n",
    "    elif KernelMethod == FidelityKernel:\n",
    "        kernel = KernelMethod(fmap,executor=samples)\n",
    "        \n",
    "    # Get the dataset\n",
    "    if dataset_name == \"MNIST\":    \n",
    "        # Generate some training data\n",
    "        X_train, y_train = get_MNIST_pca_filtered_dataset(num_qubits, num_samples = num_samples, pca=pca_sklearn, mnist = MNIST, random_seed = random_seed)\n",
    "    elif dataset_name == \"Hypercube\":\n",
    "        X_train, y_train = get_hypercube_dataset(num_qubits, num_samples = num_samples, half_width = np.pi, random_seed = random_seed)\n",
    "    #elif dataset_name == \"fMNIST\":\n",
    "    #    X_train, y_train, x_test, y_test = get_fMNIST_dataset(num_qubits, num_samples, fMNIST)\n",
    "    #elif dataset_name == \"kMNIST\":\n",
    "    #    X_train, y_train, x_test, y_test = get_KMNIST_pca_filtered_dataset(num_qubits, num_samples, kmnist=kMNIST)\n",
    "    #elif dataset_name == \"plasticc\":\n",
    "    #    X_train, x_test, y_train, y_test = get_plasticc_PCA_dataset(num_qubits, num_samples, plasticc)\n",
    "    \n",
    "        \n",
    "    # Preprocess the dataset\n",
    "    if dataset_preprocessing == \"NoPreprocessing\":\n",
    "        pass\n",
    "    elif dataset_preprocessing == \"MinMax\":\n",
    "        Scaler = MinMaxScaler(extra_parameters)\n",
    "        Scaler.fit(X_train)\n",
    "        X_train = Scaler.transform(X_train)\n",
    "\n",
    "    dataset = np.concatenate((X_train, y_train.reshape(-1, 1)), axis=1)\n",
    "\n",
    "    # Calculate the entanglement score\n",
    "    #entanglement_score = meyer_wallach_given_features(fmap, num_qubits, X_train, save_evolution=True)\n",
    "\n",
    "    # Calculate the kernel matrix\n",
    "    #entanglement_score = np.zeros(num_samples)\n",
    "    entanglement_score = None\n",
    "    \n",
    "    #Calculate the kernel matrix\n",
    "    K  = kernel.evaluate(X_train)\n",
    "\n",
    "\n",
    "    # Save the results\n",
    "    feature_map = f\"ZZEmbedding\" \n",
    "    parameters = None\n",
    "\n",
    "    if KernelMethod == ProjectedQuantumKernel:\n",
    "        extra_name = \"ProjectedKernel\"\n",
    "    elif KernelMethod == FidelityKernel:\n",
    "        extra_name = \"FidelityKernel\"\n",
    "\n",
    "\n",
    "    result = parameters_dict = {\n",
    "        \"feature_map\": feature_map,\n",
    "        \"num_layers\": num_layers,\n",
    "        \"num_qubits\": num_qubits,\n",
    "        \"parameters\": parameters,\n",
    "        \"dataset_name\": dataset_name,\n",
    "        \"dataset_preprocessing\": dataset_preprocessing,\n",
    "        \"extra_parameters\": extra_parameters,\n",
    "        \"extra_name\": extra_name,\n",
    "        \"dataset\": np.array(dataset),\n",
    "        \"kernel\": np.array(K),\n",
    "        \"entanglement_score\": np.array(entanglement_score),\n",
    "        \"measurement_basis\": measurement_basis,\n",
    "        \"outerkernel\": outer_kernel,\n",
    "        \"outerkernel_parameter\": outer_kernel_parameter\n",
    "        #\"test_dataset\": np.array(test_dataset),\n",
    "        #\"test_kernel\": np.array(test_kernel),\n",
    "        #\"test_prediction\": np.array(test_prediction)\n",
    "    }\n",
    "    return result\n",
    "    \n",
    "    #SaveParameterDatasetAndKernel(directory, feature_map, num_layers, num_qubits, parameters, dataset_name, dataset, K, dataset_preprocessing, extra_parameters, \n",
    "                                  #extra_name, entanglement_score, measurement_str, outer_kernel, outer_kernel_parameter)\n"
   ]
  },
  {
   "cell_type": "markdown",
   "metadata": {},
   "source": [
    "Testing"
   ]
  },
  {
   "cell_type": "code",
   "execution_count": 7,
   "metadata": {},
   "outputs": [],
   "source": [
    "num_qubits = 3\n",
    "num_layers = 10\n",
    "rotation_gate = None\n",
    "KernelMethod = ProjectedQuantumKernel\n",
    "directory = None #Saving not implemented\n",
    "dataset_name = \"Hypercube\"\n",
    "dataset_preprocessing = \"NoPreprocessing\"\n",
    "extra_parameters = None\n",
    "extra_name = None\n",
    "measurement_str = \"XYZ2DRM\"\n",
    "outer_kernel = \"Gaussian\"\n",
    "outer_kernel_parameter = 1\n",
    "\n",
    "\n",
    "result = run_calculation(\"ZZEmbedding\", num_qubits, num_layers, rotation_gate, KernelMethod, directory, dataset_name, dataset_preprocessing,\n",
    "                     extra_parameters, extra_name, measurement_str, outer_kernel, outer_kernel_parameter)"
   ]
  },
  {
   "cell_type": "code",
   "execution_count": 8,
   "metadata": {},
   "outputs": [
    {
     "data": {
      "text/plain": [
       "<matplotlib.colorbar.Colorbar at 0x1d518d86ce0>"
      ]
     },
     "execution_count": 8,
     "metadata": {},
     "output_type": "execute_result"
    },
    {
     "data": {
      "image/png": "[encoded data removed]",
      "text/plain": [
       "<Figure size 640x480 with 2 Axes>"
      ]
     },
     "metadata": {},
     "output_type": "display_data"
    }
   ],
   "source": [
    "# plot heatmap of kernel matrix\n",
    "plt.imshow(result['kernel'], interpolation='nearest')\n",
    "#show colorbar\n",
    "plt.colorbar()\n"
   ]
  },
  {
   "cell_type": "markdown",
   "metadata": {},
   "source": [
    "About kernel concentration:"
   ]
  },
  {
   "cell_type": "code",
   "execution_count": 9,
   "metadata": {},
   "outputs": [],
   "source": [
    "def variance_off_diagonal(M):\n",
    "    \"\"\"\n",
    "    Remove main diagonal of M, transform M to a 1D array and calculates the variance of this array.\n",
    "    \"\"\"\n",
    "    #removes main diagonal:\n",
    "    M = M[~np.eye(M.shape[0],dtype=bool)].reshape(M.shape[0],-1)\n",
    "    M = M.flatten()\n",
    "    variance = np.var(M)\n",
    "    return variance"
   ]
  },
  {
   "cell_type": "code",
   "execution_count": 10,
   "metadata": {},
   "outputs": [
    {
     "data": {
      "text/plain": [
       "0.022100828092884935"
      ]
     },
     "execution_count": 10,
     "metadata": {},
     "output_type": "execute_result"
    }
   ],
   "source": [
    "variance_off_diagonal(result['kernel']) #Kernel concentration"
   ]
  },
  {
   "cell_type": "code",
   "execution_count": 11,
   "metadata": {},
   "outputs": [
    {
     "data": {
      "text/plain": [
       "Text(0, 0.5, 'Variance of kernel matrix')"
      ]
     },
     "execution_count": 11,
     "metadata": {},
     "output_type": "execute_result"
    },
    {
     "data": {
      "image/png": "[encoded data removed]",
      "text/plain": [
       "<Figure size 640x480 with 1 Axes>"
      ]
     },
     "metadata": {},
     "output_type": "display_data"
    }
   ],
   "source": [
    "num_qubits_list = [2, 3, 4, 5] # 5, 6, 8, 10]\n",
    "num_layers_list = [1, 5] #, 8, 16, 25, 50]\n",
    "\n",
    "for index_layer, layer in enumerate(num_layers_list):\n",
    "    Kvariances = []\n",
    "    for index_qubit, qubit in enumerate(num_qubits_list):\n",
    "        result = run_calculation(\"ZZEmbedding\", qubit, layer, rotation_gate, KernelMethod, directory, dataset_name, dataset_preprocessing,\n",
    "                     extra_parameters, extra_name, measurement_str, outer_kernel, outer_kernel_parameter)\n",
    "        Kvariances.append(variance_off_diagonal(result['kernel']))\n",
    "    plt.plot(num_qubits_list, Kvariances, label = f\"{layer} layers\")\n",
    "\n",
    "plt.legend()\n",
    "#log scale\n",
    "plt.yscale('log')\n",
    "plt.xlabel(\"Number of qubits\")\n",
    "plt.ylabel(\"Variance of kernel matrix\")"
   ]
  },
  {
   "cell_type": "code",
   "execution_count": null,
   "metadata": {},
   "outputs": [],
   "source": []
  },
  {
   "cell_type": "code",
   "execution_count": null,
   "metadata": {},
   "outputs": [],
   "source": []
  }
 ],
 "metadata": {
  "kernelspec": {
   "display_name": "Python 3",
   "language": "python",
   "name": "python3"
  },
  "language_info": {
   "codemirror_mode": {
    "name": "ipython",
    "version": 3
   },
   "file_extension": ".py",
   "mimetype": "text/x-python",
   "name": "python",
   "nbconvert_exporter": "python",
   "pygments_lexer": "ipython3",
   "version": "3.10.10"
  },
  "orig_nbformat": 4
 },
 "nbformat": 4,
 "nbformat_minor": 2
}
