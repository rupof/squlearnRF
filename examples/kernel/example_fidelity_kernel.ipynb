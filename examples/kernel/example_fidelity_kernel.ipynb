{
 "cells": [
  {
   "cell_type": "markdown",
   "metadata": {},
   "source": [
    "## Example - Solving a regression task using QSVR with a Fidelity Quantum Kernel (FQK)\n",
    "\n",
    "This notebook demonstrates how to ...\n",
    "\n",
    "- generate a simple train-/test data set for solving a regression task\n",
    "- defining a FQK based on the Hubregtsen encoding circuit \n",
    "    * trainable parameters of encoding circuit are sampled randoml\n",
    "    * data are encoded redundantly\n",
    "- do the computation with qasm simulator\n",
    "- solve regression task with QSVR"
   ]
  },
  {
   "cell_type": "code",
   "execution_count": 6,
   "metadata": {},
   "outputs": [],
   "source": [
    "# necessary python and squlearn imports\n",
    "import numpy as np\n",
    "import matplotlib.pyplot as plt\n",
    "\n",
    "from squlearn.encoding_circuit import HubregtsenEncodingCircuit\n",
    "from squlearn.kernel import FidelityKernel\n",
    "from squlearn.kernel import QSVR\n",
    "from squlearn.util import Executor"
   ]
  },
  {
   "cell_type": "markdown",
   "metadata": {},
   "source": [
    "##### Simple artificial data generation"
   ]
  },
  {
   "cell_type": "code",
   "execution_count": 2,
   "metadata": {},
   "outputs": [],
   "source": [
    "# generate some training and test data\n",
    "x = np.linspace(-0.8, 0.8, 20)\n",
    "x_fine = np.linspace(-0.9, 0.9, 200)\n",
    "y = np.sin(10.0 * x) * np.cos(np.exp(2 * x))"
   ]
  },
  {
   "cell_type": "markdown",
   "metadata": {},
   "source": [
    "##### Defining Hubregtsen encoding circuit"
   ]
  },
  {
   "cell_type": "code",
   "execution_count": 3,
   "metadata": {},
   "outputs": [],
   "source": [
    "# define the encoding circuit\n",
    "num_qubits = 10\n",
    "enc_circ = HubregtsenEncodingCircuit(num_qubits, num_features=1, num_layers=2)"
   ]
  },
  {
   "cell_type": "markdown",
   "metadata": {},
   "source": [
    "##### Do the actual calculation (takes about 30s)"
   ]
  },
  {
   "cell_type": "code",
   "execution_count": 5,
   "metadata": {},
   "outputs": [
    {
     "data": {
      "text/plain": [
       "[<matplotlib.lines.Line2D at 0x2594a6ae620>]"
      ]
     },
     "execution_count": 5,
     "metadata": {},
     "output_type": "execute_result"
    },
    {
     "data": {
      "image/png": "[encoded data removed]",
      "text/plain": [
       "<Figure size 432x288 with 1 Axes>"
      ]
     },
     "metadata": {
      "needs_background": "light"
     },
     "output_type": "display_data"
    }
   ],
   "source": [
    "# Define the executor, which we want to use the qasm_simulator\n",
    "# and thus we moreover set the desired number of shots\n",
    "executor = Executor(\"qasm_simulator\")\n",
    "executor.set_shots(1000)\n",
    "\n",
    "# Define the FQK instance\n",
    "kernel = FidelityKernel(enc_circ, executor=executor, parameter_seed=0)\n",
    "\n",
    "# define QSVR instance (procedure analogously to sklearn)\n",
    "qsvr = QSVR(quantum_kernel=kernel)\n",
    "qsvr.fit(x.reshape(-1, 1), y)\n",
    "y_fine = qsvr.predict(x_fine.reshape(-1, 1))\n",
    "\n",
    "# plot the results\n",
    "plt.plot(x, y, \"x\")\n",
    "plt.plot(x_fine, y_fine)"
   ]
  },
  {
   "cell_type": "markdown",
   "metadata": {},
   "source": [
    "In order to improve the accuracy you can try to increase the number of shots, optimize the encoding circuits trainable parameters or fine-tune the classical hyper-parameters of the QSVR"
   ]
  }
 ],
 "metadata": {
  "kernelspec": {
   "display_name": "Python 3 (ipykernel)",
   "language": "python",
   "name": "python3"
  },
  "language_info": {
   "codemirror_mode": {
    "name": "ipython",
    "version": 3
   },
   "file_extension": ".py",
   "mimetype": "text/x-python",
   "name": "python",
   "nbconvert_exporter": "python",
   "pygments_lexer": "ipython3",
   "version": "3.10.10"
  },
  "latex_envs": {
   "LaTeX_envs_menu_present": true,
   "autoclose": false,
   "autocomplete": true,
   "bibliofile": "biblio.bib",
   "cite_by": "apalike",
   "current_citInitial": 1,
   "eqLabelWithNumbers": true,
   "eqNumInitial": 1,
   "hotkeys": {
    "equation": "Ctrl-E",
    "itemize": "Ctrl-I"
   },
   "labels_anchors": false,
   "latex_user_defs": false,
   "report_style_numbering": false,
   "user_envs_cfg": false
  },
  "toc": {
   "base_numbering": 1,
   "nav_menu": {},
   "number_sections": true,
   "sideBar": true,
   "skip_h1_title": false,
   "title_cell": "Table of Contents",
   "title_sidebar": "Contents",
   "toc_cell": false,
   "toc_position": {},
   "toc_section_display": true,
   "toc_window_display": false
  },
  "vscode": {
   "interpreter": {
    "hash": "26de051ba29f2982a8de78e945f0abaf191376122a1563185a90213a26c5da77"
   }
  }
 },
 "nbformat": 4,
 "nbformat_minor": 2
}
