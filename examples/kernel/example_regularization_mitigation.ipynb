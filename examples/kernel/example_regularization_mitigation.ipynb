{
 "cells": [
  {
   "attachments": {},
   "cell_type": "markdown",
   "metadata": {},
   "source": [
    "## Example - Usage of regularization and depolarizing noise mitigation options of quantum kernels\n",
    "\n",
    "This notebook demonstrates the use of the regularization option for both FQK and PQK and shows how to use depolarizing noise mitigation options, which is only meaningful for fidelity quantum kernels. The regularization and mitigation methods are based on the theory outlined in http://arxiv.org/abs/2105.02276v1"
   ]
  },
  {
   "cell_type": "code",
   "execution_count": 9,
   "metadata": {},
   "outputs": [],
   "source": [
    "# necessary python and sQUlearn imports\n",
    "import numpy as np\n",
    "import matplotlib.pyplot as plt\n",
    "\n",
    "from squlearn.encoding_circuit import HubregtsenEncodingCircuit\n",
    "from squlearn.kernel import FidelityKernel\n",
    "from squlearn.kernel import QKRR\n",
    "from squlearn.util import Executor"
   ]
  },
  {
   "cell_type": "markdown",
   "metadata": {},
   "source": [
    "##### Simple artificial data generation"
   ]
  },
  {
   "cell_type": "code",
   "execution_count": 2,
   "metadata": {},
   "outputs": [],
   "source": [
    "# generate some training and test data\n",
    "x = np.linspace(-0.8, 0.8, 20)\n",
    "x_fine = np.linspace(-0.9, 0.9, 200)\n",
    "y = np.sin(10.0 * x) * np.cos(np.exp(2 * x))"
   ]
  },
  {
   "cell_type": "markdown",
   "metadata": {},
   "source": [
    "##### Define the Hubregtsen encoding circuit"
   ]
  },
  {
   "cell_type": "code",
   "execution_count": 3,
   "metadata": {},
   "outputs": [],
   "source": [
    "num_qubits = 10\n",
    "enc_circ = HubregtsenEncodingCircuit(num_qubits, num_features=1, num_layers=2)"
   ]
  },
  {
   "cell_type": "markdown",
   "metadata": {},
   "source": [
    "##### Define the Executor\n",
    "\n",
    "<i>Note:</i> Since the effect of regularization as well as depolarizing noise mitigation techniques can only be demonstrated in the presence of noise, we perform qasm simulations in the following"
   ]
  },
  {
   "cell_type": "code",
   "execution_count": 4,
   "metadata": {},
   "outputs": [],
   "source": [
    "# Define the executor and set the desired number of shots\n",
    "executor = Executor(\"qasm_simulator\")\n",
    "executor.set_shots(1000)"
   ]
  },
  {
   "attachments": {},
   "cell_type": "markdown",
   "metadata": {},
   "source": [
    "##### Demonstrating regularization options in QKRR with FQK (takes about 30s)"
   ]
  },
  {
   "cell_type": "code",
   "execution_count": 5,
   "metadata": {},
   "outputs": [],
   "source": [
    "# Define the FQK\n",
    "qkernel = FidelityKernel(\n",
    "    enc_circ, executor=executor, parameter_seed=0, regularization=\"thresholding\"\n",
    ")\n",
    "# the alternative option would be 'tikhonov'\n",
    "\n",
    "# alternatively for PQK\n",
    "# pqk_kernel = ProjectedQuantumKernel(enc_circ, executor=executor, regularization=\"thresholding\")\n",
    "\n",
    "# Set the QKRR instance and with\n",
    "qkrr_inst = QKRR(quantum_kernel=qkernel, alpha=1e-1)\n",
    "qkrr_inst.fit(x.reshape(-1, 1), y)\n",
    "y_pred = qkrr_inst.predict(x_fine.reshape(-1, 1))"
   ]
  },
  {
   "cell_type": "code",
   "execution_count": 6,
   "metadata": {},
   "outputs": [
    {
     "data": {
      "text/plain": [
       "[<matplotlib.lines.Line2D at 0x18743966440>]"
      ]
     },
     "execution_count": 6,
     "metadata": {},
     "output_type": "execute_result"
    },
    {
     "data": {
      "image/png": "[encoded data removed]",
      "text/plain": [
       "<Figure size 432x288 with 1 Axes>"
      ]
     },
     "metadata": {
      "needs_background": "light"
     },
     "output_type": "display_data"
    }
   ],
   "source": [
    "# Plot the results\n",
    "plt.plot(x, y, \"x\")\n",
    "plt.plot(x_fine, y_pred)"
   ]
  },
  {
   "attachments": {},
   "cell_type": "markdown",
   "metadata": {},
   "source": [
    "##### Demonstrating depolarizing noise mitigation for fidelity quantum kernels"
   ]
  },
  {
   "cell_type": "code",
   "execution_count": 7,
   "metadata": {},
   "outputs": [
    {
     "name": "stdout",
     "output_type": "stream",
     "text": [
      "WARNING: Advanced option. Do not use it within an squlearn.kernel.ml workflow\n"
     ]
    },
    {
     "data": {
      "text/plain": [
       "array([[ 1.00000000e+00,  9.66229951e-01,  8.94181843e-01,\n",
       "         7.98891841e-01,  6.94921241e-01,  5.54860291e-01,\n",
       "         4.34781389e-01,  3.53629349e-01,  2.46053630e-01,\n",
       "         1.76498092e-01,  1.19783698e-01,  8.95523321e-02,\n",
       "         6.43529425e-02,  2.77941500e-02,  2.26458604e-02,\n",
       "         9.88772791e-03,  4.36515917e-03,  1.90175010e-03,\n",
       "        -2.11834060e-03,  1.65385238e-03],\n",
       "       [ 9.66229951e-01,  1.00000000e+00,  9.60622960e-01,\n",
       "         8.95511660e-01,  7.97233896e-01,  6.81277936e-01,\n",
       "         5.48993103e-01,  4.61858725e-01,  3.39006390e-01,\n",
       "         2.64221167e-01,  1.87580359e-01,  1.19686483e-01,\n",
       "         9.76696059e-02,  5.96437789e-02,  3.03077627e-02,\n",
       "         2.42690943e-02,  1.25245207e-02,  4.87209365e-03,\n",
       "         4.31528026e-03, -1.19863113e-04],\n",
       "       [ 8.94181843e-01,  9.60622960e-01,  1.00000000e+00,\n",
       "         9.64013062e-01,  8.87481581e-01,  8.15733232e-01,\n",
       "         7.14006488e-01,  6.24421283e-01,  4.76640894e-01,\n",
       "         3.86971568e-01,  2.74492074e-01,  1.89651638e-01,\n",
       "         1.36961252e-01,  9.04221097e-02,  5.24963508e-02,\n",
       "         3.97012578e-02,  2.19743572e-02,  1.34015899e-02,\n",
       "         5.25459477e-03, -5.26702848e-04],\n",
       "       [ 7.98891841e-01,  8.95511660e-01,  9.64013062e-01,\n",
       "         1.00000000e+00,  9.56304761e-01,  8.87961046e-01,\n",
       "         8.16325982e-01,  6.94606653e-01,  5.77548842e-01,\n",
       "         4.86519525e-01,  3.56954461e-01,  2.69501244e-01,\n",
       "         2.01980109e-01,  1.33688358e-01,  9.18249268e-02,\n",
       "         6.30393663e-02,  4.16666046e-02,  1.85402592e-02,\n",
       "         1.15856967e-02,  9.21146090e-03],\n",
       "       [ 6.94921241e-01,  7.97233896e-01,  8.87481581e-01,\n",
       "         9.56304761e-01,  1.00000000e+00,  9.61503296e-01,\n",
       "         9.06908660e-01,  8.03849069e-01,  7.12990105e-01,\n",
       "         5.90089961e-01,  4.82367286e-01,  3.72013013e-01,\n",
       "         2.77809629e-01,  1.95936797e-01,  1.49327371e-01,\n",
       "         9.20575026e-02,  6.10361740e-02,  3.68559689e-02,\n",
       "         1.13867719e-02,  9.07245317e-03],\n",
       "       [ 5.54860291e-01,  6.81277936e-01,  8.15733232e-01,\n",
       "         8.87961046e-01,  9.61503296e-01,  1.00000000e+00,\n",
       "         9.62214357e-01,  9.09344989e-01,  8.23484116e-01,\n",
       "         7.01413777e-01,  6.04248987e-01,  4.71490689e-01,\n",
       "         3.74655497e-01,  2.82067310e-01,  2.11089224e-01,\n",
       "         1.33431669e-01,  9.95401107e-02,  6.79485136e-02,\n",
       "         3.96542282e-02,  2.23801680e-02],\n",
       "       [ 4.34781389e-01,  5.48993103e-01,  7.14006488e-01,\n",
       "         8.16325982e-01,  9.06908660e-01,  9.62214357e-01,\n",
       "         1.00000000e+00,  9.57596415e-01,  8.97549339e-01,\n",
       "         8.23481389e-01,  7.10129293e-01,  5.98847172e-01,\n",
       "         4.73607363e-01,  3.79533464e-01,  2.89433297e-01,\n",
       "         2.06254037e-01,  1.51933805e-01,  9.29525385e-02,\n",
       "         5.77470941e-02,  4.01330347e-02],\n",
       "       [ 3.53629349e-01,  4.61858725e-01,  6.24421283e-01,\n",
       "         6.94606653e-01,  8.03849069e-01,  9.09344989e-01,\n",
       "         9.57596415e-01,  1.00000000e+00,  9.53551017e-01,\n",
       "         8.96914631e-01,  8.29963331e-01,  7.14300112e-01,\n",
       "         5.90361681e-01,  4.97073307e-01,  3.89833764e-01,\n",
       "         2.82017341e-01,  1.97970943e-01,  1.42557241e-01,\n",
       "         8.52918512e-02,  5.58333695e-02],\n",
       "       [ 2.46053630e-01,  3.39006390e-01,  4.76640894e-01,\n",
       "         5.77548842e-01,  7.12990105e-01,  8.23484116e-01,\n",
       "         8.97549339e-01,  9.53551017e-01,  1.00000000e+00,\n",
       "         9.51048963e-01,  9.05006495e-01,  8.20594614e-01,\n",
       "         7.21404379e-01,  5.91454882e-01,  5.06741987e-01,\n",
       "         3.79951216e-01,  2.74189741e-01,  1.90700656e-01,\n",
       "         1.27050292e-01,  7.48993585e-02],\n",
       "       [ 1.76498092e-01,  2.64221167e-01,  3.86971568e-01,\n",
       "         4.86519525e-01,  5.90089961e-01,  7.01413777e-01,\n",
       "         8.23481389e-01,  8.96914631e-01,  9.51048963e-01,\n",
       "         1.00000000e+00,  9.58729613e-01,  8.99715271e-01,\n",
       "         8.12310656e-01,  7.21794474e-01,  5.91936876e-01,\n",
       "         4.85835426e-01,  3.76534961e-01,  2.55406567e-01,\n",
       "         1.91218425e-01,  1.26043911e-01],\n",
       "       [ 1.19783698e-01,  1.87580359e-01,  2.74492074e-01,\n",
       "         3.56954461e-01,  4.82367286e-01,  6.04248987e-01,\n",
       "         7.10129293e-01,  8.29963331e-01,  9.05006495e-01,\n",
       "         9.58729613e-01,  1.00000000e+00,  9.58540662e-01,\n",
       "         9.03368325e-01,  8.32626927e-01,  7.19850950e-01,\n",
       "         5.89890967e-01,  4.79789964e-01,  3.73316832e-01,\n",
       "         2.84794409e-01,  2.08706682e-01],\n",
       "       [ 8.95523321e-02,  1.19686483e-01,  1.89651638e-01,\n",
       "         2.69501244e-01,  3.72013013e-01,  4.71490689e-01,\n",
       "         5.98847172e-01,  7.14300112e-01,  8.20594614e-01,\n",
       "         8.99715271e-01,  9.58540662e-01,  1.00000000e+00,\n",
       "         9.49987914e-01,  8.97986010e-01,  8.30075469e-01,\n",
       "         6.94297390e-01,  5.89188121e-01,  4.77516260e-01,\n",
       "         3.42159152e-01,  2.70510245e-01],\n",
       "       [ 6.43529425e-02,  9.76696059e-02,  1.36961252e-01,\n",
       "         2.01980109e-01,  2.77809629e-01,  3.74655497e-01,\n",
       "         4.73607363e-01,  5.90361681e-01,  7.21404379e-01,\n",
       "         8.12310656e-01,  9.03368325e-01,  9.49987914e-01,\n",
       "         1.00000000e+00,  9.62442824e-01,  9.18250036e-01,\n",
       "         8.19090177e-01,  7.16388878e-01,  5.88346455e-01,\n",
       "         4.75060558e-01,  3.37273947e-01],\n",
       "       [ 2.77941500e-02,  5.96437789e-02,  9.04221097e-02,\n",
       "         1.33688358e-01,  1.95936797e-01,  2.82067310e-01,\n",
       "         3.79533464e-01,  4.97073307e-01,  5.91454882e-01,\n",
       "         7.21794474e-01,  8.32626927e-01,  8.97986010e-01,\n",
       "         9.62442824e-01,  1.00000000e+00,  9.55946173e-01,\n",
       "         9.01435056e-01,  8.28341483e-01,  7.13041679e-01,\n",
       "         5.86809887e-01,  4.53420914e-01],\n",
       "       [ 2.26458604e-02,  3.03077627e-02,  5.24963508e-02,\n",
       "         9.18249268e-02,  1.49327371e-01,  2.11089224e-01,\n",
       "         2.89433297e-01,  3.89833764e-01,  5.06741987e-01,\n",
       "         5.91936876e-01,  7.19850950e-01,  8.30075469e-01,\n",
       "         9.18250036e-01,  9.55946173e-01,  1.00000000e+00,\n",
       "         9.58947304e-01,  8.97572203e-01,  8.22359235e-01,\n",
       "         6.86956653e-01,  5.62399753e-01],\n",
       "       [ 9.88772791e-03,  2.42690943e-02,  3.97012578e-02,\n",
       "         6.30393663e-02,  9.20575026e-02,  1.33431669e-01,\n",
       "         2.06254037e-01,  2.82017341e-01,  3.79951216e-01,\n",
       "         4.85835426e-01,  5.89890967e-01,  6.94297390e-01,\n",
       "         8.19090177e-01,  9.01435056e-01,  9.58947304e-01,\n",
       "         1.00000000e+00,  9.65021835e-01,  9.02081506e-01,\n",
       "         8.08500900e-01,  6.76050982e-01],\n",
       "       [ 4.36515917e-03,  1.25245207e-02,  2.19743572e-02,\n",
       "         4.16666046e-02,  6.10361740e-02,  9.95401107e-02,\n",
       "         1.51933805e-01,  1.97970943e-01,  2.74189741e-01,\n",
       "         3.76534961e-01,  4.79789964e-01,  5.89188121e-01,\n",
       "         7.16388878e-01,  8.28341483e-01,  8.97572203e-01,\n",
       "         9.65021835e-01,  1.00000000e+00,  9.63699893e-01,\n",
       "         8.98152961e-01,  7.96396764e-01],\n",
       "       [ 1.90175010e-03,  4.87209365e-03,  1.34015899e-02,\n",
       "         1.85402592e-02,  3.68559689e-02,  6.79485136e-02,\n",
       "         9.29525385e-02,  1.42557241e-01,  1.90700656e-01,\n",
       "         2.55406567e-01,  3.73316832e-01,  4.77516260e-01,\n",
       "         5.88346455e-01,  7.13041679e-01,  8.22359235e-01,\n",
       "         9.02081506e-01,  9.63699893e-01,  1.00000000e+00,\n",
       "         9.53121736e-01,  9.01411609e-01],\n",
       "       [-2.11834060e-03,  4.31528026e-03,  5.25459477e-03,\n",
       "         1.15856967e-02,  1.13867719e-02,  3.96542282e-02,\n",
       "         5.77470941e-02,  8.52918512e-02,  1.27050292e-01,\n",
       "         1.91218425e-01,  2.84794409e-01,  3.42159152e-01,\n",
       "         4.75060558e-01,  5.86809887e-01,  6.86956653e-01,\n",
       "         8.08500900e-01,  8.98152961e-01,  9.53121736e-01,\n",
       "         1.00000000e+00,  9.58312687e-01],\n",
       "       [ 1.65385238e-03, -1.19863113e-04, -5.26702848e-04,\n",
       "         9.21146090e-03,  9.07245317e-03,  2.23801680e-02,\n",
       "         4.01330347e-02,  5.58333695e-02,  7.48993585e-02,\n",
       "         1.26043911e-01,  2.08706682e-01,  2.70510245e-01,\n",
       "         3.37273947e-01,  4.53420914e-01,  5.62399753e-01,\n",
       "         6.76050982e-01,  7.96396764e-01,  9.01411609e-01,\n",
       "         9.58312687e-01,  1.00000000e+00]])"
      ]
     },
     "execution_count": 7,
     "metadata": {},
     "output_type": "execute_result"
    }
   ],
   "source": [
    "# Set the FQK with the option of mit_depol_noise\n",
    "# Since we are using only a qasm_simulator this option is in principal useless,\n",
    "# however, in this case we demonstrate the availability of this option and it's main effect,\n",
    "# i.e. restoring ones on the diagonal\n",
    "kernel_mit = FidelityKernel(\n",
    "    enc_circ, executor=executor, mit_depol_noise=\"msplit\", parameter_seed=10\n",
    ")  # the alternative option would be 'mmean'\n",
    "kernel_mit.evaluate(x.reshape(-1, 1))"
   ]
  },
  {
   "cell_type": "code",
   "execution_count": 8,
   "metadata": {},
   "outputs": [
    {
     "name": "stdout",
     "output_type": "stream",
     "text": [
      "[[ 1.00044014e+00  9.39937559e-01  8.16147969e-01  6.48777621e-01\n",
      "   4.62871406e-01  3.03719752e-01  1.89383805e-01  9.73319233e-02\n",
      "   4.63761005e-02  1.80159078e-02  5.43450530e-03  2.18994438e-03\n",
      "   9.69088935e-06 -1.47945436e-04  5.42004083e-04 -1.14868467e-05\n",
      "  -3.02218432e-05  1.98589889e-04 -5.30017937e-05 -1.10932353e-04]\n",
      " [ 9.39937559e-01  1.00157934e+00  9.48468518e-01  8.36696299e-01\n",
      "   6.54346141e-01  4.75191635e-01  3.10056164e-01  1.62212053e-01\n",
      "   8.54974044e-02  4.64638139e-02  2.07638186e-02  8.50342922e-03\n",
      "   3.97127285e-03  5.08355630e-04 -5.97201497e-04  5.13964504e-04\n",
      "   3.08691115e-04 -8.18496508e-04  7.94985358e-04 -3.60316200e-04]\n",
      " [ 8.16147969e-01  9.48468518e-01  1.00794341e+00  9.49083219e-01\n",
      "   8.34082356e-01  6.64162892e-01  4.76997808e-01  3.12115644e-01\n",
      "   1.93782656e-01  1.00569700e-01  5.61167236e-02  2.51734368e-02\n",
      "   7.87157529e-03  4.97862253e-03  5.38362197e-04 -4.52549503e-04\n",
      "   2.35903597e-04  4.08866943e-04 -7.56674112e-04  3.29121705e-04]\n",
      " [ 6.48777621e-01  8.36696299e-01  9.49083219e-01  1.00502390e+00\n",
      "   9.54298751e-01  8.32467053e-01  6.71645046e-01  4.63327320e-01\n",
      "   2.95299599e-01  1.85631908e-01  1.10049327e-01  4.39551482e-02\n",
      "   2.25102926e-02  1.12380347e-02  6.45946897e-05  2.20993171e-03\n",
      "  -1.06999716e-03  4.46230963e-04 -5.77325009e-05  4.99649180e-04]\n",
      " [ 4.62871406e-01  6.54346141e-01  8.34082356e-01  9.54298751e-01\n",
      "   1.00741458e+00  9.47129433e-01  8.47879196e-01  6.62957246e-01\n",
      "   4.83053788e-01  3.26925910e-01  2.02643167e-01  9.65178770e-02\n",
      "   4.95741559e-02  2.31213584e-02  8.52712237e-03  4.06824425e-03\n",
      "  -2.82271449e-04  8.42533649e-04 -1.69852451e-03  9.67694843e-04]\n",
      " [ 3.03719752e-01  4.75191635e-01  6.64162892e-01  8.32467053e-01\n",
      "   9.47129433e-01  1.00398792e+00  9.51289058e-01  8.35808731e-01\n",
      "   6.65236235e-01  4.98144524e-01  3.39637238e-01  1.91672853e-01\n",
      "   8.82371366e-02  4.94807804e-02  1.05424537e-02  9.06068660e-03\n",
      "   5.92310382e-03 -2.05967816e-04  3.18448780e-03 -1.76396236e-03]\n",
      " [ 1.89383805e-01  3.10056164e-01  4.76997808e-01  6.71645046e-01\n",
      "   8.47879196e-01  9.51289058e-01  1.01165180e+00  9.46640248e-01\n",
      "   8.19438023e-01  6.70801279e-01  4.87243769e-01  3.12916449e-01\n",
      "   1.85726727e-01  1.03177742e-01  4.61909172e-02  2.08208457e-02\n",
      "   7.69658630e-03  2.31155488e-03  1.33700944e-03 -4.76034352e-04]\n",
      " [ 9.73319233e-02  1.62212053e-01  3.12115644e-01  4.63327320e-01\n",
      "   6.62957246e-01  8.35808731e-01  9.46640248e-01  1.01422727e+00\n",
      "   9.54373622e-01  8.30682297e-01  6.68975689e-01  4.92955043e-01\n",
      "   2.99526071e-01  1.86656263e-01  8.94302008e-02  4.25761184e-02\n",
      "   2.47884844e-02  9.96291623e-03  5.40595688e-03  1.14702716e-03]\n",
      " [ 4.63761005e-02  8.54974044e-02  1.93782656e-01  2.95299599e-01\n",
      "   4.83053788e-01  6.65236235e-01  8.19438023e-01  9.54373622e-01\n",
      "   1.00816810e+00  9.54602753e-01  8.12665941e-01  6.50447106e-01\n",
      "   4.61666452e-01  3.12835120e-01  1.92103887e-01  9.83277172e-02\n",
      "   5.66506264e-02  1.79947651e-02  5.54446268e-03  1.99001290e-03]\n",
      " [ 1.80159078e-02  4.64638139e-02  1.00569700e-01  1.85631908e-01\n",
      "   3.26925910e-01  4.98144524e-01  6.70801279e-01  8.30682297e-01\n",
      "   9.54602753e-01  1.01197810e+00  9.48794479e-01  8.18990897e-01\n",
      "   6.60795789e-01  4.78267343e-01  3.18678314e-01  1.80418842e-01\n",
      "   1.07640185e-01  5.20317905e-02  1.66240017e-02  4.97396086e-03]\n",
      " [ 5.43450530e-03  2.07638186e-02  5.61167236e-02  1.10049327e-01\n",
      "   2.02643167e-01  3.39637238e-01  4.87243769e-01  6.68975689e-01\n",
      "   8.12665941e-01  9.48794479e-01  1.00952927e+00  9.51258513e-01\n",
      "   8.39781703e-01  6.63061741e-01  4.78572663e-01  3.04143099e-01\n",
      "   1.99407057e-01  1.20391810e-01  4.49800841e-02  2.57407087e-02]\n",
      " [ 2.18994438e-03  8.50342922e-03  2.51734368e-02  4.39551482e-02\n",
      "   9.65178770e-02  1.91672853e-01  3.12916449e-01  4.92955043e-01\n",
      "   6.50447106e-01  8.18990897e-01  9.51258513e-01  1.00940818e+00\n",
      "   9.41700124e-01  8.41131973e-01  6.50869417e-01  4.82494149e-01\n",
      "   3.15267980e-01  1.93825810e-01  9.89475572e-02  4.05351906e-02]\n",
      " [ 9.69088935e-06  3.97127285e-03  7.87157529e-03  2.25102926e-02\n",
      "   4.95741559e-02  8.82371366e-02  1.85726727e-01  2.99526071e-01\n",
      "   4.61666452e-01  6.60795789e-01  8.39781703e-01  9.41700124e-01\n",
      "   1.00773655e+00  9.54264058e-01  8.36011295e-01  6.59246505e-01\n",
      "   4.83125253e-01  3.25622790e-01  1.73495159e-01  9.70456424e-02]\n",
      " [-1.47945436e-04  5.08355630e-04  4.97862253e-03  1.12380347e-02\n",
      "   2.31213584e-02  4.94807804e-02  1.03177742e-01  1.86656263e-01\n",
      "   3.12835120e-01  4.78267343e-01  6.63061741e-01  8.41131973e-01\n",
      "   9.54264058e-01  1.01684818e+00  9.53795520e-01  8.44271055e-01\n",
      "   6.50295192e-01  4.62864947e-01  2.94814022e-01  1.59734855e-01]\n",
      " [ 5.42004083e-04 -5.97201497e-04  5.38362197e-04  6.45946897e-05\n",
      "   8.52712237e-03  1.05424537e-02  4.61909172e-02  8.94302008e-02\n",
      "   1.92103887e-01  3.18678314e-01  4.78572663e-01  6.50869417e-01\n",
      "   8.36011295e-01  9.53795520e-01  1.01208592e+00  9.54538403e-01\n",
      "   8.29118772e-01  6.37813421e-01  4.58134037e-01  3.23718242e-01]\n",
      " [-1.14868467e-05  5.13964504e-04 -4.52549503e-04  2.20993171e-03\n",
      "   4.06824425e-03  9.06068660e-03  2.08208457e-02  4.25761184e-02\n",
      "   9.83277172e-02  1.80418842e-01  3.04143099e-01  4.82494149e-01\n",
      "   6.59246505e-01  8.44271055e-01  9.54538403e-01  1.01459860e+00\n",
      "   9.46640169e-01  8.14960042e-01  6.57824494e-01  4.68206688e-01]\n",
      " [-3.02218432e-05  3.08691115e-04  2.35903597e-04 -1.06999716e-03\n",
      "  -2.82271449e-04  5.92310382e-03  7.69658630e-03  2.47884844e-02\n",
      "   5.66506264e-02  1.07640185e-01  1.99407057e-01  3.15267980e-01\n",
      "   4.83125253e-01  6.50295192e-01  8.29118772e-01  9.46640169e-01\n",
      "   1.00437683e+00  9.48569460e-01  8.46005409e-01  7.03108447e-01]\n",
      " [ 1.98589889e-04 -8.18496508e-04  4.08866943e-04  4.46230963e-04\n",
      "   8.42533649e-04 -2.05967816e-04  2.31155488e-03  9.96291623e-03\n",
      "   1.79947651e-02  5.20317905e-02  1.20391810e-01  1.93825810e-01\n",
      "   3.25622790e-01  4.62864947e-01  6.37813421e-01  8.14960042e-01\n",
      "   9.48569460e-01  1.00246659e+00  9.50153684e-01  8.16294237e-01]\n",
      " [-5.30017937e-05  7.94985358e-04 -7.56674112e-04 -5.77325009e-05\n",
      "  -1.69852451e-03  3.18448780e-03  1.33700944e-03  5.40595688e-03\n",
      "   5.54446268e-03  1.66240017e-02  4.49800841e-02  9.89475572e-02\n",
      "   1.73495159e-01  2.94814022e-01  4.58134037e-01  6.57824494e-01\n",
      "   8.46005409e-01  9.50153684e-01  1.01096049e+00  9.47986154e-01]\n",
      " [-1.10932353e-04 -3.60316200e-04  3.29121705e-04  4.99649180e-04\n",
      "   9.67694843e-04 -1.76396236e-03 -4.76034352e-04  1.14702716e-03\n",
      "   1.99001290e-03  4.97396086e-03  2.57407087e-02  4.05351906e-02\n",
      "   9.70456424e-02  1.59734855e-01  3.23718242e-01  4.68206688e-01\n",
      "   7.03108447e-01  8.16294237e-01  9.47986154e-01  1.00470506e+00]]\n"
     ]
    }
   ],
   "source": [
    "# Compare to the kernel without this option (subtracting identiy necessary due to inherent regularization of QKRR)\n",
    "print(qkrr_inst.k_train - 1e-1 * np.eye(np.shape(qkrr_inst.k_train)[0]))"
   ]
  }
 ],
 "metadata": {
  "kernelspec": {
   "display_name": "Python 3",
   "language": "python",
   "name": "python3"
  },
  "language_info": {
   "codemirror_mode": {
    "name": "ipython",
    "version": 3
   },
   "file_extension": ".py",
   "mimetype": "text/x-python",
   "name": "python",
   "nbconvert_exporter": "python",
   "pygments_lexer": "ipython3",
   "version": "3.10.10"
  },
  "orig_nbformat": 4
 },
 "nbformat": 4,
 "nbformat_minor": 2
}
